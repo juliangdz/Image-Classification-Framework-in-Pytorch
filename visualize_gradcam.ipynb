{
 "cells": [
  {
   "cell_type": "code",
   "execution_count": 21,
   "metadata": {},
   "outputs": [],
   "source": [
    "import torch \n",
    "import matplotlib.pyplot as plt \n",
    "import cv2\n",
    "import numpy as np \n",
    "import os\n",
    "from data.manager import load_dataset\n",
    "from utils.helper import *\n",
    "from data.helper import get_balanced_sample\n",
    "from PIL import Image"
   ]
  },
  {
   "cell_type": "code",
   "execution_count": 13,
   "metadata": {},
   "outputs": [],
   "source": [
    "CONFIG = read_config(\"/home/julian/indonezia/development/julian/ssl_classification_pipeline/test_config.json\")\n",
    "MODEL_PATH = \"/home/julian/indonezia/development/julian/ssl_classification_pipeline/bacil_experiments/run_7/checkpoints/best_model.pth\""
   ]
  },
  {
   "cell_type": "code",
   "execution_count": 11,
   "metadata": {},
   "outputs": [
    {
     "name": "stdout",
     "output_type": "stream",
     "text": [
      "Directory already exists at: /home/julian/indonezia/dataset/classification_dataset_julian\n"
     ]
    },
    {
     "name": "stderr",
     "output_type": "stream",
     "text": [
      "/home/julian/anaconda3/envs/pytorch_env/lib/python3.11/site-packages/albumentations/core/validation.py:45: UserWarning: ShiftScaleRotate is a special case of Affine transform. Please use Affine transform instead.\n",
      "  original_init(self, **validated_kwargs)\n"
     ]
    },
    {
     "name": "stdout",
     "output_type": "stream",
     "text": [
      "Class Map (label):  {'bacil': 0, 'debris': 1}\n",
      "Class Map (idx):  {0: 'bacil', 1: 'debris'}\n",
      "Class Map (label):  {'bacil': 0, 'debris': 1}\n",
      "Class Map (idx):  {0: 'bacil', 1: 'debris'}\n"
     ]
    }
   ],
   "source": [
    "train_loader, val_loader, test_loader, input_shape, num_classes,class_names = load_dataset(CONFIG)"
   ]
  },
  {
   "cell_type": "code",
   "execution_count": 12,
   "metadata": {},
   "outputs": [],
   "source": [
    "test_loader_iter = iter(test_loader)\n",
    "test_images, test_labels = get_balanced_sample(test_loader_iter,n_pos=32,n_neg=32)"
   ]
  },
  {
   "cell_type": "code",
   "execution_count": 15,
   "metadata": {},
   "outputs": [
    {
     "name": "stderr",
     "output_type": "stream",
     "text": [
      "/home/julian/anaconda3/envs/pytorch_env/lib/python3.11/site-packages/torchvision/models/_utils.py:208: UserWarning: The parameter 'pretrained' is deprecated since 0.13 and may be removed in the future, please use 'weights' instead.\n",
      "  warnings.warn(\n",
      "/home/julian/anaconda3/envs/pytorch_env/lib/python3.11/site-packages/torchvision/models/_utils.py:223: UserWarning: Arguments other than a weight enum or `None` for 'weights' are deprecated since 0.13 and may be removed in the future. The current behavior is equivalent to passing `weights=None`.\n",
      "  warnings.warn(msg)\n"
     ]
    }
   ],
   "source": [
    "from networks.runner import build_model\n",
    "from utils.helper import get_device\n",
    "device = get_device()\n",
    "model = build_model(CONFIG['hyperparams']['network'], CONFIG,input_shape,num_classes)\n",
    "model = model.to(device)"
   ]
  },
  {
   "cell_type": "code",
   "execution_count": 16,
   "metadata": {},
   "outputs": [],
   "source": [
    "def load_pth_model(model, checkpoint_path, device):\n",
    "    model.load_state_dict(torch.load(checkpoint_path, map_location=device))\n",
    "    model.eval()\n",
    "    return model"
   ]
  },
  {
   "cell_type": "code",
   "execution_count": 17,
   "metadata": {},
   "outputs": [],
   "source": [
    "model = load_pth_model(model, MODEL_PATH, device)"
   ]
  },
  {
   "cell_type": "code",
   "execution_count": 18,
   "metadata": {},
   "outputs": [],
   "source": [
    "all_preds_for_test = model(test_images.to(device))  # shape: [B, num_classes]\n",
    "preds = all_preds_for_test.argmax(dim=1).cpu()\n",
    "targets = test_labels"
   ]
  },
  {
   "cell_type": "code",
   "execution_count": 19,
   "metadata": {},
   "outputs": [],
   "source": [
    "import torch\n",
    "import torch.nn.functional as F\n",
    "\n",
    "class GradCAM:\n",
    "    def __init__(self, model, target_layer=None):\n",
    "        self.model = model\n",
    "        self.model.eval()\n",
    "\n",
    "        # Will store activations and gradients\n",
    "        self.activations = None\n",
    "        self.gradients = None\n",
    "\n",
    "        # Automatically find a convolution layer if none is specified\n",
    "        if target_layer is None:\n",
    "            self.target_layer = self.find_last_conv_layer(model)\n",
    "        else:\n",
    "            self.target_layer = target_layer\n",
    "\n",
    "        # Register hooks\n",
    "        self.hook_forward_backward()\n",
    "\n",
    "    def find_last_conv_layer(self, model):\n",
    "        # Reverse through all submodules\n",
    "        for module in reversed(list(model.modules())):\n",
    "            if isinstance(module, torch.nn.Conv2d):\n",
    "                return module\n",
    "        raise ValueError(\"No convolutional layer found in the model.\")\n",
    "\n",
    "    def hook_forward_backward(self):\n",
    "        # Forward hook: to store the *actual* activations of the target layer\n",
    "        def forward_hook(module, input, output):\n",
    "            self.activations = output\n",
    "\n",
    "        # Backward hook: to store the gradients of the target layer\n",
    "        def backward_hook(module, grad_in, grad_out):\n",
    "            # grad_out is a tuple, [0] is the actual gradients we need\n",
    "            self.gradients = grad_out[0]\n",
    "\n",
    "        # Register forward and backward hooks\n",
    "        self.target_layer.register_forward_hook(forward_hook)\n",
    "        # Use register_full_backward_hook if available/preferred (PyTorch 1.10+)\n",
    "        self.target_layer.register_backward_hook(backward_hook)\n",
    "\n",
    "    def generate_cam(self, input_image, target_class=None):\n",
    "        \"\"\"\n",
    "        input_image: a 4D tensor [B, C, H, W]\n",
    "        target_class: integer class index (or None, to use argmax)\n",
    "        \"\"\"\n",
    "\n",
    "        # 1) Forward pass\n",
    "        output = self.model(input_image)\n",
    "\n",
    "        # If no target class provided, take the highest-scoring class for the first sample\n",
    "        if target_class is None:\n",
    "            # This picks from the *first* item in the batch\n",
    "            target_class = output.argmax(dim=1).item()\n",
    "\n",
    "        # 2) Zero grads and backward pass on the target class\n",
    "        self.model.zero_grad()\n",
    "        # If your batch size is > 1, make sure you handle that carefully\n",
    "        loss = output[0, target_class]  # using first sample in batch\n",
    "        loss.backward()\n",
    "\n",
    "        # Now self.gradients and self.activations are populated\n",
    "\n",
    "        # 3) Compute the weights: global-average-pool the gradients\n",
    "        pooled_gradients = torch.mean(self.gradients, dim=[0, 2, 3])\n",
    "\n",
    "        # 4) Weight the channels of the stored activations by the pooled gradients\n",
    "        #    self.activations shape: [B, #channels, H, W]\n",
    "        #    pooled_gradients shape: [#channels]\n",
    "        activations = self.activations[0].detach().clone()  # focusing on first sample if batch>1\n",
    "        for i in range(activations.shape[0]):\n",
    "            activations[i, :, :] *= pooled_gradients[0]\n",
    "\n",
    "        # 5) Sum (or mean) across channels to get a single 2D map\n",
    "        heatmap = torch.mean(activations, dim=0)  # shape: [H, W]\n",
    "\n",
    "        # 6) ReLU and normalize\n",
    "        heatmap = F.relu(heatmap)\n",
    "        if torch.max(heatmap) != 0:\n",
    "            heatmap /= torch.max(heatmap)\n",
    "\n",
    "        return heatmap\n"
   ]
  },
  {
   "cell_type": "code",
   "execution_count": 58,
   "metadata": {},
   "outputs": [],
   "source": [
    "def create_gradcam_overlay(original_img_np, heatmap_resized_np, alpha=0.6):\n",
    "    \"\"\"\n",
    "    Creates a Grad-CAM overlay using OpenCV.\n",
    "\n",
    "    Parameters:\n",
    "    - original_img_np: Original image in [H, W, C] format, values in [0, 1].\n",
    "    - heatmap_resized_np: Resized heatmap in [H, W], values in [0, 1].\n",
    "    - alpha: Transparency factor for the heatmap.\n",
    "\n",
    "    Returns:\n",
    "    - overlay_bgr: BGR image with the heatmap overlay.\n",
    "    \"\"\"\n",
    "    # Prepare the heatmap\n",
    "    heatmap_np = np.uint8(255 * heatmap_resized_np)  # Convert to [0, 255] for OpenCV\n",
    "\n",
    "    # Apply the colormap (e.g., JET)\n",
    "    heatmap_colored = cv2.applyColorMap(heatmap_np, cv2.COLORMAP_JET)\n",
    "\n",
    "    # Convert original image to uint8\n",
    "    original_img_uint8 = np.uint8(255 * original_img_np)\n",
    "\n",
    "    # Ensure the original image is in BGR format (if it's in RGB)\n",
    "    original_img_bgr = cv2.cvtColor(original_img_uint8, cv2.COLOR_RGB2BGR)\n",
    "\n",
    "    # Resize heatmap_colored to match original image size if necessary\n",
    "    if heatmap_colored.shape[:2] != original_img_bgr.shape[:2]:\n",
    "        heatmap_colored = cv2.resize(heatmap_colored, (original_img_bgr.shape[1], original_img_bgr.shape[0]))\n",
    "\n",
    "    # Overlay the heatmap on the original image\n",
    "    overlay = cv2.addWeighted(heatmap_colored, alpha, original_img_bgr, 1 - alpha, 0)\n",
    "\n",
    "    return overlay"
   ]
  },
  {
   "cell_type": "code",
   "execution_count": 59,
   "metadata": {},
   "outputs": [],
   "source": [
    "def save_gradcam_subplot(original_img_np, overlay_bgr, true_label, pred_label, output_path):\n",
    "    \"\"\"\n",
    "    Creates and saves a subplot with the original image and Grad-CAM overlay.\n",
    "\n",
    "    Parameters:\n",
    "    - original_img_np: Original image in [H, W, C] format, values in [0, 1].\n",
    "    - overlay_bgr: BGR image with the heatmap overlay.\n",
    "    - true_label: String representing the true label.\n",
    "    - pred_label: String representing the predicted label.\n",
    "    - output_path: Path to save the subplot image.\n",
    "    \"\"\"\n",
    "    # Convert overlay from BGR to RGB for Matplotlib\n",
    "    overlay_rgb = cv2.cvtColor(overlay_bgr, cv2.COLOR_BGR2RGB)\n",
    "\n",
    "    # Create a Matplotlib figure with two subplots\n",
    "    fig, axs = plt.subplots(1, 2, figsize=(10, 5))\n",
    "\n",
    "    # Original Image\n",
    "    axs[0].imshow(original_img_np)\n",
    "    axs[0].axis('off')\n",
    "    axs[0].set_title(f\"Original Image\\nLabel: {true_label}\", fontsize=12)\n",
    "\n",
    "    # Grad-CAM Overlay\n",
    "    axs[1].imshow(overlay_rgb)\n",
    "    axs[1].axis('off')\n",
    "    axs[1].set_title(f\"Grad-CAM Overlay\\nPredicted: {pred_label}\", fontsize=12)\n",
    "\n",
    "    # Adjust layout and save the figure\n",
    "    plt.tight_layout()\n",
    "    plt.savefig(output_path, bbox_inches='tight')\n",
    "    plt.close(fig)  # Close the figure to free memory\n"
   ]
  },
  {
   "cell_type": "code",
   "execution_count": 61,
   "metadata": {},
   "outputs": [
    {
     "name": "stderr",
     "output_type": "stream",
     "text": [
      "/home/julian/anaconda3/envs/pytorch_env/lib/python3.11/site-packages/torch/nn/modules/module.py:1830: FutureWarning: Using a non-full backward hook when the forward contains multiple autograd Nodes is deprecated and will be removed in future versions. This hook will be missing some grad_input. Please use register_full_backward_hook to get the documented behavior.\n",
      "  self._maybe_warn_non_full_backward_hook(args, result, grad_fn)\n"
     ]
    },
    {
     "name": "stdout",
     "output_type": "stream",
     "text": [
      "Saved Grad-CAM subplot for image 0 to /home/julian/indonezia/development/julian/ssl_classification_pipeline/gradcam_outputs/image_0_gradcam_subplot.jpg\n"
     ]
    },
    {
     "name": "stderr",
     "output_type": "stream",
     "text": [
      "/home/julian/anaconda3/envs/pytorch_env/lib/python3.11/site-packages/torch/nn/modules/module.py:1830: FutureWarning: Using a non-full backward hook when the forward contains multiple autograd Nodes is deprecated and will be removed in future versions. This hook will be missing some grad_input. Please use register_full_backward_hook to get the documented behavior.\n",
      "  self._maybe_warn_non_full_backward_hook(args, result, grad_fn)\n"
     ]
    },
    {
     "name": "stdout",
     "output_type": "stream",
     "text": [
      "Saved Grad-CAM subplot for image 1 to /home/julian/indonezia/development/julian/ssl_classification_pipeline/gradcam_outputs/image_1_gradcam_subplot.jpg\n"
     ]
    },
    {
     "name": "stderr",
     "output_type": "stream",
     "text": [
      "/home/julian/anaconda3/envs/pytorch_env/lib/python3.11/site-packages/torch/nn/modules/module.py:1830: FutureWarning: Using a non-full backward hook when the forward contains multiple autograd Nodes is deprecated and will be removed in future versions. This hook will be missing some grad_input. Please use register_full_backward_hook to get the documented behavior.\n",
      "  self._maybe_warn_non_full_backward_hook(args, result, grad_fn)\n"
     ]
    },
    {
     "name": "stdout",
     "output_type": "stream",
     "text": [
      "Saved Grad-CAM subplot for image 2 to /home/julian/indonezia/development/julian/ssl_classification_pipeline/gradcam_outputs/image_2_gradcam_subplot.jpg\n"
     ]
    },
    {
     "name": "stderr",
     "output_type": "stream",
     "text": [
      "/home/julian/anaconda3/envs/pytorch_env/lib/python3.11/site-packages/torch/nn/modules/module.py:1830: FutureWarning: Using a non-full backward hook when the forward contains multiple autograd Nodes is deprecated and will be removed in future versions. This hook will be missing some grad_input. Please use register_full_backward_hook to get the documented behavior.\n",
      "  self._maybe_warn_non_full_backward_hook(args, result, grad_fn)\n"
     ]
    },
    {
     "name": "stdout",
     "output_type": "stream",
     "text": [
      "Saved Grad-CAM subplot for image 3 to /home/julian/indonezia/development/julian/ssl_classification_pipeline/gradcam_outputs/image_3_gradcam_subplot.jpg\n"
     ]
    },
    {
     "name": "stderr",
     "output_type": "stream",
     "text": [
      "/home/julian/anaconda3/envs/pytorch_env/lib/python3.11/site-packages/torch/nn/modules/module.py:1830: FutureWarning: Using a non-full backward hook when the forward contains multiple autograd Nodes is deprecated and will be removed in future versions. This hook will be missing some grad_input. Please use register_full_backward_hook to get the documented behavior.\n",
      "  self._maybe_warn_non_full_backward_hook(args, result, grad_fn)\n"
     ]
    },
    {
     "name": "stdout",
     "output_type": "stream",
     "text": [
      "Saved Grad-CAM subplot for image 4 to /home/julian/indonezia/development/julian/ssl_classification_pipeline/gradcam_outputs/image_4_gradcam_subplot.jpg\n"
     ]
    },
    {
     "name": "stderr",
     "output_type": "stream",
     "text": [
      "/home/julian/anaconda3/envs/pytorch_env/lib/python3.11/site-packages/torch/nn/modules/module.py:1830: FutureWarning: Using a non-full backward hook when the forward contains multiple autograd Nodes is deprecated and will be removed in future versions. This hook will be missing some grad_input. Please use register_full_backward_hook to get the documented behavior.\n",
      "  self._maybe_warn_non_full_backward_hook(args, result, grad_fn)\n"
     ]
    },
    {
     "name": "stdout",
     "output_type": "stream",
     "text": [
      "Saved Grad-CAM subplot for image 5 to /home/julian/indonezia/development/julian/ssl_classification_pipeline/gradcam_outputs/image_5_gradcam_subplot.jpg\n"
     ]
    },
    {
     "name": "stderr",
     "output_type": "stream",
     "text": [
      "/home/julian/anaconda3/envs/pytorch_env/lib/python3.11/site-packages/torch/nn/modules/module.py:1830: FutureWarning: Using a non-full backward hook when the forward contains multiple autograd Nodes is deprecated and will be removed in future versions. This hook will be missing some grad_input. Please use register_full_backward_hook to get the documented behavior.\n",
      "  self._maybe_warn_non_full_backward_hook(args, result, grad_fn)\n"
     ]
    },
    {
     "name": "stdout",
     "output_type": "stream",
     "text": [
      "Saved Grad-CAM subplot for image 6 to /home/julian/indonezia/development/julian/ssl_classification_pipeline/gradcam_outputs/image_6_gradcam_subplot.jpg\n"
     ]
    },
    {
     "name": "stderr",
     "output_type": "stream",
     "text": [
      "/home/julian/anaconda3/envs/pytorch_env/lib/python3.11/site-packages/torch/nn/modules/module.py:1830: FutureWarning: Using a non-full backward hook when the forward contains multiple autograd Nodes is deprecated and will be removed in future versions. This hook will be missing some grad_input. Please use register_full_backward_hook to get the documented behavior.\n",
      "  self._maybe_warn_non_full_backward_hook(args, result, grad_fn)\n"
     ]
    },
    {
     "name": "stdout",
     "output_type": "stream",
     "text": [
      "Saved Grad-CAM subplot for image 7 to /home/julian/indonezia/development/julian/ssl_classification_pipeline/gradcam_outputs/image_7_gradcam_subplot.jpg\n"
     ]
    },
    {
     "name": "stderr",
     "output_type": "stream",
     "text": [
      "/home/julian/anaconda3/envs/pytorch_env/lib/python3.11/site-packages/torch/nn/modules/module.py:1830: FutureWarning: Using a non-full backward hook when the forward contains multiple autograd Nodes is deprecated and will be removed in future versions. This hook will be missing some grad_input. Please use register_full_backward_hook to get the documented behavior.\n",
      "  self._maybe_warn_non_full_backward_hook(args, result, grad_fn)\n"
     ]
    },
    {
     "name": "stdout",
     "output_type": "stream",
     "text": [
      "Saved Grad-CAM subplot for image 8 to /home/julian/indonezia/development/julian/ssl_classification_pipeline/gradcam_outputs/image_8_gradcam_subplot.jpg\n"
     ]
    },
    {
     "name": "stderr",
     "output_type": "stream",
     "text": [
      "/home/julian/anaconda3/envs/pytorch_env/lib/python3.11/site-packages/torch/nn/modules/module.py:1830: FutureWarning: Using a non-full backward hook when the forward contains multiple autograd Nodes is deprecated and will be removed in future versions. This hook will be missing some grad_input. Please use register_full_backward_hook to get the documented behavior.\n",
      "  self._maybe_warn_non_full_backward_hook(args, result, grad_fn)\n"
     ]
    },
    {
     "name": "stdout",
     "output_type": "stream",
     "text": [
      "Saved Grad-CAM subplot for image 9 to /home/julian/indonezia/development/julian/ssl_classification_pipeline/gradcam_outputs/image_9_gradcam_subplot.jpg\n"
     ]
    },
    {
     "name": "stderr",
     "output_type": "stream",
     "text": [
      "/home/julian/anaconda3/envs/pytorch_env/lib/python3.11/site-packages/torch/nn/modules/module.py:1830: FutureWarning: Using a non-full backward hook when the forward contains multiple autograd Nodes is deprecated and will be removed in future versions. This hook will be missing some grad_input. Please use register_full_backward_hook to get the documented behavior.\n",
      "  self._maybe_warn_non_full_backward_hook(args, result, grad_fn)\n"
     ]
    },
    {
     "name": "stdout",
     "output_type": "stream",
     "text": [
      "Saved Grad-CAM subplot for image 10 to /home/julian/indonezia/development/julian/ssl_classification_pipeline/gradcam_outputs/image_10_gradcam_subplot.jpg\n"
     ]
    },
    {
     "name": "stderr",
     "output_type": "stream",
     "text": [
      "/home/julian/anaconda3/envs/pytorch_env/lib/python3.11/site-packages/torch/nn/modules/module.py:1830: FutureWarning: Using a non-full backward hook when the forward contains multiple autograd Nodes is deprecated and will be removed in future versions. This hook will be missing some grad_input. Please use register_full_backward_hook to get the documented behavior.\n",
      "  self._maybe_warn_non_full_backward_hook(args, result, grad_fn)\n"
     ]
    },
    {
     "name": "stdout",
     "output_type": "stream",
     "text": [
      "Saved Grad-CAM subplot for image 11 to /home/julian/indonezia/development/julian/ssl_classification_pipeline/gradcam_outputs/image_11_gradcam_subplot.jpg\n"
     ]
    },
    {
     "name": "stderr",
     "output_type": "stream",
     "text": [
      "/home/julian/anaconda3/envs/pytorch_env/lib/python3.11/site-packages/torch/nn/modules/module.py:1830: FutureWarning: Using a non-full backward hook when the forward contains multiple autograd Nodes is deprecated and will be removed in future versions. This hook will be missing some grad_input. Please use register_full_backward_hook to get the documented behavior.\n",
      "  self._maybe_warn_non_full_backward_hook(args, result, grad_fn)\n"
     ]
    },
    {
     "name": "stdout",
     "output_type": "stream",
     "text": [
      "Saved Grad-CAM subplot for image 12 to /home/julian/indonezia/development/julian/ssl_classification_pipeline/gradcam_outputs/image_12_gradcam_subplot.jpg\n",
      "Saved Grad-CAM subplot for image 13 to /home/julian/indonezia/development/julian/ssl_classification_pipeline/gradcam_outputs/image_13_gradcam_subplot.jpg\n"
     ]
    },
    {
     "name": "stderr",
     "output_type": "stream",
     "text": [
      "/home/julian/anaconda3/envs/pytorch_env/lib/python3.11/site-packages/torch/nn/modules/module.py:1830: FutureWarning: Using a non-full backward hook when the forward contains multiple autograd Nodes is deprecated and will be removed in future versions. This hook will be missing some grad_input. Please use register_full_backward_hook to get the documented behavior.\n",
      "  self._maybe_warn_non_full_backward_hook(args, result, grad_fn)\n",
      "/home/julian/anaconda3/envs/pytorch_env/lib/python3.11/site-packages/torch/nn/modules/module.py:1830: FutureWarning: Using a non-full backward hook when the forward contains multiple autograd Nodes is deprecated and will be removed in future versions. This hook will be missing some grad_input. Please use register_full_backward_hook to get the documented behavior.\n",
      "  self._maybe_warn_non_full_backward_hook(args, result, grad_fn)\n"
     ]
    },
    {
     "name": "stdout",
     "output_type": "stream",
     "text": [
      "Saved Grad-CAM subplot for image 14 to /home/julian/indonezia/development/julian/ssl_classification_pipeline/gradcam_outputs/image_14_gradcam_subplot.jpg\n"
     ]
    },
    {
     "name": "stderr",
     "output_type": "stream",
     "text": [
      "/home/julian/anaconda3/envs/pytorch_env/lib/python3.11/site-packages/torch/nn/modules/module.py:1830: FutureWarning: Using a non-full backward hook when the forward contains multiple autograd Nodes is deprecated and will be removed in future versions. This hook will be missing some grad_input. Please use register_full_backward_hook to get the documented behavior.\n",
      "  self._maybe_warn_non_full_backward_hook(args, result, grad_fn)\n"
     ]
    },
    {
     "name": "stdout",
     "output_type": "stream",
     "text": [
      "Saved Grad-CAM subplot for image 15 to /home/julian/indonezia/development/julian/ssl_classification_pipeline/gradcam_outputs/image_15_gradcam_subplot.jpg\n"
     ]
    },
    {
     "name": "stderr",
     "output_type": "stream",
     "text": [
      "/home/julian/anaconda3/envs/pytorch_env/lib/python3.11/site-packages/torch/nn/modules/module.py:1830: FutureWarning: Using a non-full backward hook when the forward contains multiple autograd Nodes is deprecated and will be removed in future versions. This hook will be missing some grad_input. Please use register_full_backward_hook to get the documented behavior.\n",
      "  self._maybe_warn_non_full_backward_hook(args, result, grad_fn)\n"
     ]
    },
    {
     "name": "stdout",
     "output_type": "stream",
     "text": [
      "Saved Grad-CAM subplot for image 16 to /home/julian/indonezia/development/julian/ssl_classification_pipeline/gradcam_outputs/image_16_gradcam_subplot.jpg\n"
     ]
    },
    {
     "name": "stderr",
     "output_type": "stream",
     "text": [
      "/home/julian/anaconda3/envs/pytorch_env/lib/python3.11/site-packages/torch/nn/modules/module.py:1830: FutureWarning: Using a non-full backward hook when the forward contains multiple autograd Nodes is deprecated and will be removed in future versions. This hook will be missing some grad_input. Please use register_full_backward_hook to get the documented behavior.\n",
      "  self._maybe_warn_non_full_backward_hook(args, result, grad_fn)\n"
     ]
    },
    {
     "name": "stdout",
     "output_type": "stream",
     "text": [
      "Saved Grad-CAM subplot for image 17 to /home/julian/indonezia/development/julian/ssl_classification_pipeline/gradcam_outputs/image_17_gradcam_subplot.jpg\n"
     ]
    },
    {
     "name": "stderr",
     "output_type": "stream",
     "text": [
      "/home/julian/anaconda3/envs/pytorch_env/lib/python3.11/site-packages/torch/nn/modules/module.py:1830: FutureWarning: Using a non-full backward hook when the forward contains multiple autograd Nodes is deprecated and will be removed in future versions. This hook will be missing some grad_input. Please use register_full_backward_hook to get the documented behavior.\n",
      "  self._maybe_warn_non_full_backward_hook(args, result, grad_fn)\n"
     ]
    },
    {
     "name": "stdout",
     "output_type": "stream",
     "text": [
      "Saved Grad-CAM subplot for image 18 to /home/julian/indonezia/development/julian/ssl_classification_pipeline/gradcam_outputs/image_18_gradcam_subplot.jpg\n",
      "Saved Grad-CAM subplot for image 19 to /home/julian/indonezia/development/julian/ssl_classification_pipeline/gradcam_outputs/image_19_gradcam_subplot.jpg\n"
     ]
    },
    {
     "name": "stderr",
     "output_type": "stream",
     "text": [
      "/home/julian/anaconda3/envs/pytorch_env/lib/python3.11/site-packages/torch/nn/modules/module.py:1830: FutureWarning: Using a non-full backward hook when the forward contains multiple autograd Nodes is deprecated and will be removed in future versions. This hook will be missing some grad_input. Please use register_full_backward_hook to get the documented behavior.\n",
      "  self._maybe_warn_non_full_backward_hook(args, result, grad_fn)\n",
      "/home/julian/anaconda3/envs/pytorch_env/lib/python3.11/site-packages/torch/nn/modules/module.py:1830: FutureWarning: Using a non-full backward hook when the forward contains multiple autograd Nodes is deprecated and will be removed in future versions. This hook will be missing some grad_input. Please use register_full_backward_hook to get the documented behavior.\n",
      "  self._maybe_warn_non_full_backward_hook(args, result, grad_fn)\n"
     ]
    },
    {
     "name": "stdout",
     "output_type": "stream",
     "text": [
      "Saved Grad-CAM subplot for image 20 to /home/julian/indonezia/development/julian/ssl_classification_pipeline/gradcam_outputs/image_20_gradcam_subplot.jpg\n",
      "Saved Grad-CAM subplot for image 21 to /home/julian/indonezia/development/julian/ssl_classification_pipeline/gradcam_outputs/image_21_gradcam_subplot.jpg\n"
     ]
    },
    {
     "name": "stderr",
     "output_type": "stream",
     "text": [
      "/home/julian/anaconda3/envs/pytorch_env/lib/python3.11/site-packages/torch/nn/modules/module.py:1830: FutureWarning: Using a non-full backward hook when the forward contains multiple autograd Nodes is deprecated and will be removed in future versions. This hook will be missing some grad_input. Please use register_full_backward_hook to get the documented behavior.\n",
      "  self._maybe_warn_non_full_backward_hook(args, result, grad_fn)\n",
      "/home/julian/anaconda3/envs/pytorch_env/lib/python3.11/site-packages/torch/nn/modules/module.py:1830: FutureWarning: Using a non-full backward hook when the forward contains multiple autograd Nodes is deprecated and will be removed in future versions. This hook will be missing some grad_input. Please use register_full_backward_hook to get the documented behavior.\n",
      "  self._maybe_warn_non_full_backward_hook(args, result, grad_fn)\n"
     ]
    },
    {
     "name": "stdout",
     "output_type": "stream",
     "text": [
      "Saved Grad-CAM subplot for image 22 to /home/julian/indonezia/development/julian/ssl_classification_pipeline/gradcam_outputs/image_22_gradcam_subplot.jpg\n",
      "Saved Grad-CAM subplot for image 23 to /home/julian/indonezia/development/julian/ssl_classification_pipeline/gradcam_outputs/image_23_gradcam_subplot.jpg\n"
     ]
    },
    {
     "name": "stderr",
     "output_type": "stream",
     "text": [
      "/home/julian/anaconda3/envs/pytorch_env/lib/python3.11/site-packages/torch/nn/modules/module.py:1830: FutureWarning: Using a non-full backward hook when the forward contains multiple autograd Nodes is deprecated and will be removed in future versions. This hook will be missing some grad_input. Please use register_full_backward_hook to get the documented behavior.\n",
      "  self._maybe_warn_non_full_backward_hook(args, result, grad_fn)\n",
      "/home/julian/anaconda3/envs/pytorch_env/lib/python3.11/site-packages/torch/nn/modules/module.py:1830: FutureWarning: Using a non-full backward hook when the forward contains multiple autograd Nodes is deprecated and will be removed in future versions. This hook will be missing some grad_input. Please use register_full_backward_hook to get the documented behavior.\n",
      "  self._maybe_warn_non_full_backward_hook(args, result, grad_fn)\n"
     ]
    },
    {
     "name": "stdout",
     "output_type": "stream",
     "text": [
      "Saved Grad-CAM subplot for image 24 to /home/julian/indonezia/development/julian/ssl_classification_pipeline/gradcam_outputs/image_24_gradcam_subplot.jpg\n",
      "Saved Grad-CAM subplot for image 25 to /home/julian/indonezia/development/julian/ssl_classification_pipeline/gradcam_outputs/image_25_gradcam_subplot.jpg\n"
     ]
    },
    {
     "name": "stderr",
     "output_type": "stream",
     "text": [
      "/home/julian/anaconda3/envs/pytorch_env/lib/python3.11/site-packages/torch/nn/modules/module.py:1830: FutureWarning: Using a non-full backward hook when the forward contains multiple autograd Nodes is deprecated and will be removed in future versions. This hook will be missing some grad_input. Please use register_full_backward_hook to get the documented behavior.\n",
      "  self._maybe_warn_non_full_backward_hook(args, result, grad_fn)\n",
      "/home/julian/anaconda3/envs/pytorch_env/lib/python3.11/site-packages/torch/nn/modules/module.py:1830: FutureWarning: Using a non-full backward hook when the forward contains multiple autograd Nodes is deprecated and will be removed in future versions. This hook will be missing some grad_input. Please use register_full_backward_hook to get the documented behavior.\n",
      "  self._maybe_warn_non_full_backward_hook(args, result, grad_fn)\n"
     ]
    },
    {
     "name": "stdout",
     "output_type": "stream",
     "text": [
      "Saved Grad-CAM subplot for image 26 to /home/julian/indonezia/development/julian/ssl_classification_pipeline/gradcam_outputs/image_26_gradcam_subplot.jpg\n"
     ]
    },
    {
     "name": "stderr",
     "output_type": "stream",
     "text": [
      "/home/julian/anaconda3/envs/pytorch_env/lib/python3.11/site-packages/torch/nn/modules/module.py:1830: FutureWarning: Using a non-full backward hook when the forward contains multiple autograd Nodes is deprecated and will be removed in future versions. This hook will be missing some grad_input. Please use register_full_backward_hook to get the documented behavior.\n",
      "  self._maybe_warn_non_full_backward_hook(args, result, grad_fn)\n"
     ]
    },
    {
     "name": "stdout",
     "output_type": "stream",
     "text": [
      "Saved Grad-CAM subplot for image 27 to /home/julian/indonezia/development/julian/ssl_classification_pipeline/gradcam_outputs/image_27_gradcam_subplot.jpg\n"
     ]
    },
    {
     "name": "stderr",
     "output_type": "stream",
     "text": [
      "/home/julian/anaconda3/envs/pytorch_env/lib/python3.11/site-packages/torch/nn/modules/module.py:1830: FutureWarning: Using a non-full backward hook when the forward contains multiple autograd Nodes is deprecated and will be removed in future versions. This hook will be missing some grad_input. Please use register_full_backward_hook to get the documented behavior.\n",
      "  self._maybe_warn_non_full_backward_hook(args, result, grad_fn)\n"
     ]
    },
    {
     "name": "stdout",
     "output_type": "stream",
     "text": [
      "Saved Grad-CAM subplot for image 28 to /home/julian/indonezia/development/julian/ssl_classification_pipeline/gradcam_outputs/image_28_gradcam_subplot.jpg\n"
     ]
    },
    {
     "name": "stderr",
     "output_type": "stream",
     "text": [
      "/home/julian/anaconda3/envs/pytorch_env/lib/python3.11/site-packages/torch/nn/modules/module.py:1830: FutureWarning: Using a non-full backward hook when the forward contains multiple autograd Nodes is deprecated and will be removed in future versions. This hook will be missing some grad_input. Please use register_full_backward_hook to get the documented behavior.\n",
      "  self._maybe_warn_non_full_backward_hook(args, result, grad_fn)\n"
     ]
    },
    {
     "name": "stdout",
     "output_type": "stream",
     "text": [
      "Saved Grad-CAM subplot for image 29 to /home/julian/indonezia/development/julian/ssl_classification_pipeline/gradcam_outputs/image_29_gradcam_subplot.jpg\n"
     ]
    },
    {
     "name": "stderr",
     "output_type": "stream",
     "text": [
      "/home/julian/anaconda3/envs/pytorch_env/lib/python3.11/site-packages/torch/nn/modules/module.py:1830: FutureWarning: Using a non-full backward hook when the forward contains multiple autograd Nodes is deprecated and will be removed in future versions. This hook will be missing some grad_input. Please use register_full_backward_hook to get the documented behavior.\n",
      "  self._maybe_warn_non_full_backward_hook(args, result, grad_fn)\n"
     ]
    },
    {
     "name": "stdout",
     "output_type": "stream",
     "text": [
      "Saved Grad-CAM subplot for image 30 to /home/julian/indonezia/development/julian/ssl_classification_pipeline/gradcam_outputs/image_30_gradcam_subplot.jpg\n"
     ]
    },
    {
     "name": "stderr",
     "output_type": "stream",
     "text": [
      "/home/julian/anaconda3/envs/pytorch_env/lib/python3.11/site-packages/torch/nn/modules/module.py:1830: FutureWarning: Using a non-full backward hook when the forward contains multiple autograd Nodes is deprecated and will be removed in future versions. This hook will be missing some grad_input. Please use register_full_backward_hook to get the documented behavior.\n",
      "  self._maybe_warn_non_full_backward_hook(args, result, grad_fn)\n"
     ]
    },
    {
     "name": "stdout",
     "output_type": "stream",
     "text": [
      "Saved Grad-CAM subplot for image 31 to /home/julian/indonezia/development/julian/ssl_classification_pipeline/gradcam_outputs/image_31_gradcam_subplot.jpg\n"
     ]
    },
    {
     "name": "stderr",
     "output_type": "stream",
     "text": [
      "/home/julian/anaconda3/envs/pytorch_env/lib/python3.11/site-packages/torch/nn/modules/module.py:1830: FutureWarning: Using a non-full backward hook when the forward contains multiple autograd Nodes is deprecated and will be removed in future versions. This hook will be missing some grad_input. Please use register_full_backward_hook to get the documented behavior.\n",
      "  self._maybe_warn_non_full_backward_hook(args, result, grad_fn)\n"
     ]
    },
    {
     "name": "stdout",
     "output_type": "stream",
     "text": [
      "Saved Grad-CAM subplot for image 32 to /home/julian/indonezia/development/julian/ssl_classification_pipeline/gradcam_outputs/image_32_gradcam_subplot.jpg\n"
     ]
    },
    {
     "name": "stderr",
     "output_type": "stream",
     "text": [
      "/home/julian/anaconda3/envs/pytorch_env/lib/python3.11/site-packages/torch/nn/modules/module.py:1830: FutureWarning: Using a non-full backward hook when the forward contains multiple autograd Nodes is deprecated and will be removed in future versions. This hook will be missing some grad_input. Please use register_full_backward_hook to get the documented behavior.\n",
      "  self._maybe_warn_non_full_backward_hook(args, result, grad_fn)\n"
     ]
    },
    {
     "name": "stdout",
     "output_type": "stream",
     "text": [
      "Saved Grad-CAM subplot for image 33 to /home/julian/indonezia/development/julian/ssl_classification_pipeline/gradcam_outputs/image_33_gradcam_subplot.jpg\n"
     ]
    },
    {
     "name": "stderr",
     "output_type": "stream",
     "text": [
      "/home/julian/anaconda3/envs/pytorch_env/lib/python3.11/site-packages/torch/nn/modules/module.py:1830: FutureWarning: Using a non-full backward hook when the forward contains multiple autograd Nodes is deprecated and will be removed in future versions. This hook will be missing some grad_input. Please use register_full_backward_hook to get the documented behavior.\n",
      "  self._maybe_warn_non_full_backward_hook(args, result, grad_fn)\n"
     ]
    },
    {
     "name": "stdout",
     "output_type": "stream",
     "text": [
      "Saved Grad-CAM subplot for image 34 to /home/julian/indonezia/development/julian/ssl_classification_pipeline/gradcam_outputs/image_34_gradcam_subplot.jpg\n"
     ]
    },
    {
     "name": "stderr",
     "output_type": "stream",
     "text": [
      "/home/julian/anaconda3/envs/pytorch_env/lib/python3.11/site-packages/torch/nn/modules/module.py:1830: FutureWarning: Using a non-full backward hook when the forward contains multiple autograd Nodes is deprecated and will be removed in future versions. This hook will be missing some grad_input. Please use register_full_backward_hook to get the documented behavior.\n",
      "  self._maybe_warn_non_full_backward_hook(args, result, grad_fn)\n"
     ]
    },
    {
     "name": "stdout",
     "output_type": "stream",
     "text": [
      "Saved Grad-CAM subplot for image 35 to /home/julian/indonezia/development/julian/ssl_classification_pipeline/gradcam_outputs/image_35_gradcam_subplot.jpg\n"
     ]
    },
    {
     "name": "stderr",
     "output_type": "stream",
     "text": [
      "/home/julian/anaconda3/envs/pytorch_env/lib/python3.11/site-packages/torch/nn/modules/module.py:1830: FutureWarning: Using a non-full backward hook when the forward contains multiple autograd Nodes is deprecated and will be removed in future versions. This hook will be missing some grad_input. Please use register_full_backward_hook to get the documented behavior.\n",
      "  self._maybe_warn_non_full_backward_hook(args, result, grad_fn)\n"
     ]
    },
    {
     "name": "stdout",
     "output_type": "stream",
     "text": [
      "Saved Grad-CAM subplot for image 36 to /home/julian/indonezia/development/julian/ssl_classification_pipeline/gradcam_outputs/image_36_gradcam_subplot.jpg\n"
     ]
    },
    {
     "name": "stderr",
     "output_type": "stream",
     "text": [
      "/home/julian/anaconda3/envs/pytorch_env/lib/python3.11/site-packages/torch/nn/modules/module.py:1830: FutureWarning: Using a non-full backward hook when the forward contains multiple autograd Nodes is deprecated and will be removed in future versions. This hook will be missing some grad_input. Please use register_full_backward_hook to get the documented behavior.\n",
      "  self._maybe_warn_non_full_backward_hook(args, result, grad_fn)\n"
     ]
    },
    {
     "name": "stdout",
     "output_type": "stream",
     "text": [
      "Saved Grad-CAM subplot for image 37 to /home/julian/indonezia/development/julian/ssl_classification_pipeline/gradcam_outputs/image_37_gradcam_subplot.jpg\n"
     ]
    },
    {
     "name": "stderr",
     "output_type": "stream",
     "text": [
      "/home/julian/anaconda3/envs/pytorch_env/lib/python3.11/site-packages/torch/nn/modules/module.py:1830: FutureWarning: Using a non-full backward hook when the forward contains multiple autograd Nodes is deprecated and will be removed in future versions. This hook will be missing some grad_input. Please use register_full_backward_hook to get the documented behavior.\n",
      "  self._maybe_warn_non_full_backward_hook(args, result, grad_fn)\n"
     ]
    },
    {
     "name": "stdout",
     "output_type": "stream",
     "text": [
      "Saved Grad-CAM subplot for image 38 to /home/julian/indonezia/development/julian/ssl_classification_pipeline/gradcam_outputs/image_38_gradcam_subplot.jpg\n"
     ]
    },
    {
     "name": "stderr",
     "output_type": "stream",
     "text": [
      "/home/julian/anaconda3/envs/pytorch_env/lib/python3.11/site-packages/torch/nn/modules/module.py:1830: FutureWarning: Using a non-full backward hook when the forward contains multiple autograd Nodes is deprecated and will be removed in future versions. This hook will be missing some grad_input. Please use register_full_backward_hook to get the documented behavior.\n",
      "  self._maybe_warn_non_full_backward_hook(args, result, grad_fn)\n"
     ]
    },
    {
     "name": "stdout",
     "output_type": "stream",
     "text": [
      "Saved Grad-CAM subplot for image 39 to /home/julian/indonezia/development/julian/ssl_classification_pipeline/gradcam_outputs/image_39_gradcam_subplot.jpg\n"
     ]
    },
    {
     "name": "stderr",
     "output_type": "stream",
     "text": [
      "/home/julian/anaconda3/envs/pytorch_env/lib/python3.11/site-packages/torch/nn/modules/module.py:1830: FutureWarning: Using a non-full backward hook when the forward contains multiple autograd Nodes is deprecated and will be removed in future versions. This hook will be missing some grad_input. Please use register_full_backward_hook to get the documented behavior.\n",
      "  self._maybe_warn_non_full_backward_hook(args, result, grad_fn)\n"
     ]
    },
    {
     "name": "stdout",
     "output_type": "stream",
     "text": [
      "Saved Grad-CAM subplot for image 40 to /home/julian/indonezia/development/julian/ssl_classification_pipeline/gradcam_outputs/image_40_gradcam_subplot.jpg\n"
     ]
    },
    {
     "name": "stderr",
     "output_type": "stream",
     "text": [
      "/home/julian/anaconda3/envs/pytorch_env/lib/python3.11/site-packages/torch/nn/modules/module.py:1830: FutureWarning: Using a non-full backward hook when the forward contains multiple autograd Nodes is deprecated and will be removed in future versions. This hook will be missing some grad_input. Please use register_full_backward_hook to get the documented behavior.\n",
      "  self._maybe_warn_non_full_backward_hook(args, result, grad_fn)\n"
     ]
    },
    {
     "name": "stdout",
     "output_type": "stream",
     "text": [
      "Saved Grad-CAM subplot for image 41 to /home/julian/indonezia/development/julian/ssl_classification_pipeline/gradcam_outputs/image_41_gradcam_subplot.jpg\n"
     ]
    },
    {
     "name": "stderr",
     "output_type": "stream",
     "text": [
      "/home/julian/anaconda3/envs/pytorch_env/lib/python3.11/site-packages/torch/nn/modules/module.py:1830: FutureWarning: Using a non-full backward hook when the forward contains multiple autograd Nodes is deprecated and will be removed in future versions. This hook will be missing some grad_input. Please use register_full_backward_hook to get the documented behavior.\n",
      "  self._maybe_warn_non_full_backward_hook(args, result, grad_fn)\n"
     ]
    },
    {
     "name": "stdout",
     "output_type": "stream",
     "text": [
      "Saved Grad-CAM subplot for image 42 to /home/julian/indonezia/development/julian/ssl_classification_pipeline/gradcam_outputs/image_42_gradcam_subplot.jpg\n"
     ]
    },
    {
     "name": "stderr",
     "output_type": "stream",
     "text": [
      "/home/julian/anaconda3/envs/pytorch_env/lib/python3.11/site-packages/torch/nn/modules/module.py:1830: FutureWarning: Using a non-full backward hook when the forward contains multiple autograd Nodes is deprecated and will be removed in future versions. This hook will be missing some grad_input. Please use register_full_backward_hook to get the documented behavior.\n",
      "  self._maybe_warn_non_full_backward_hook(args, result, grad_fn)\n"
     ]
    },
    {
     "name": "stdout",
     "output_type": "stream",
     "text": [
      "Saved Grad-CAM subplot for image 43 to /home/julian/indonezia/development/julian/ssl_classification_pipeline/gradcam_outputs/image_43_gradcam_subplot.jpg\n"
     ]
    },
    {
     "name": "stderr",
     "output_type": "stream",
     "text": [
      "/home/julian/anaconda3/envs/pytorch_env/lib/python3.11/site-packages/torch/nn/modules/module.py:1830: FutureWarning: Using a non-full backward hook when the forward contains multiple autograd Nodes is deprecated and will be removed in future versions. This hook will be missing some grad_input. Please use register_full_backward_hook to get the documented behavior.\n",
      "  self._maybe_warn_non_full_backward_hook(args, result, grad_fn)\n"
     ]
    },
    {
     "name": "stdout",
     "output_type": "stream",
     "text": [
      "Saved Grad-CAM subplot for image 44 to /home/julian/indonezia/development/julian/ssl_classification_pipeline/gradcam_outputs/image_44_gradcam_subplot.jpg\n"
     ]
    },
    {
     "name": "stderr",
     "output_type": "stream",
     "text": [
      "/home/julian/anaconda3/envs/pytorch_env/lib/python3.11/site-packages/torch/nn/modules/module.py:1830: FutureWarning: Using a non-full backward hook when the forward contains multiple autograd Nodes is deprecated and will be removed in future versions. This hook will be missing some grad_input. Please use register_full_backward_hook to get the documented behavior.\n",
      "  self._maybe_warn_non_full_backward_hook(args, result, grad_fn)\n"
     ]
    },
    {
     "name": "stdout",
     "output_type": "stream",
     "text": [
      "Saved Grad-CAM subplot for image 45 to /home/julian/indonezia/development/julian/ssl_classification_pipeline/gradcam_outputs/image_45_gradcam_subplot.jpg\n"
     ]
    },
    {
     "name": "stderr",
     "output_type": "stream",
     "text": [
      "/home/julian/anaconda3/envs/pytorch_env/lib/python3.11/site-packages/torch/nn/modules/module.py:1830: FutureWarning: Using a non-full backward hook when the forward contains multiple autograd Nodes is deprecated and will be removed in future versions. This hook will be missing some grad_input. Please use register_full_backward_hook to get the documented behavior.\n",
      "  self._maybe_warn_non_full_backward_hook(args, result, grad_fn)\n"
     ]
    },
    {
     "name": "stdout",
     "output_type": "stream",
     "text": [
      "Saved Grad-CAM subplot for image 46 to /home/julian/indonezia/development/julian/ssl_classification_pipeline/gradcam_outputs/image_46_gradcam_subplot.jpg\n"
     ]
    },
    {
     "name": "stderr",
     "output_type": "stream",
     "text": [
      "/home/julian/anaconda3/envs/pytorch_env/lib/python3.11/site-packages/torch/nn/modules/module.py:1830: FutureWarning: Using a non-full backward hook when the forward contains multiple autograd Nodes is deprecated and will be removed in future versions. This hook will be missing some grad_input. Please use register_full_backward_hook to get the documented behavior.\n",
      "  self._maybe_warn_non_full_backward_hook(args, result, grad_fn)\n"
     ]
    },
    {
     "name": "stdout",
     "output_type": "stream",
     "text": [
      "Saved Grad-CAM subplot for image 47 to /home/julian/indonezia/development/julian/ssl_classification_pipeline/gradcam_outputs/image_47_gradcam_subplot.jpg\n"
     ]
    },
    {
     "name": "stderr",
     "output_type": "stream",
     "text": [
      "/home/julian/anaconda3/envs/pytorch_env/lib/python3.11/site-packages/torch/nn/modules/module.py:1830: FutureWarning: Using a non-full backward hook when the forward contains multiple autograd Nodes is deprecated and will be removed in future versions. This hook will be missing some grad_input. Please use register_full_backward_hook to get the documented behavior.\n",
      "  self._maybe_warn_non_full_backward_hook(args, result, grad_fn)\n"
     ]
    },
    {
     "name": "stdout",
     "output_type": "stream",
     "text": [
      "Saved Grad-CAM subplot for image 48 to /home/julian/indonezia/development/julian/ssl_classification_pipeline/gradcam_outputs/image_48_gradcam_subplot.jpg\n"
     ]
    },
    {
     "name": "stderr",
     "output_type": "stream",
     "text": [
      "/home/julian/anaconda3/envs/pytorch_env/lib/python3.11/site-packages/torch/nn/modules/module.py:1830: FutureWarning: Using a non-full backward hook when the forward contains multiple autograd Nodes is deprecated and will be removed in future versions. This hook will be missing some grad_input. Please use register_full_backward_hook to get the documented behavior.\n",
      "  self._maybe_warn_non_full_backward_hook(args, result, grad_fn)\n"
     ]
    },
    {
     "name": "stdout",
     "output_type": "stream",
     "text": [
      "Saved Grad-CAM subplot for image 49 to /home/julian/indonezia/development/julian/ssl_classification_pipeline/gradcam_outputs/image_49_gradcam_subplot.jpg\n"
     ]
    },
    {
     "name": "stderr",
     "output_type": "stream",
     "text": [
      "/home/julian/anaconda3/envs/pytorch_env/lib/python3.11/site-packages/torch/nn/modules/module.py:1830: FutureWarning: Using a non-full backward hook when the forward contains multiple autograd Nodes is deprecated and will be removed in future versions. This hook will be missing some grad_input. Please use register_full_backward_hook to get the documented behavior.\n",
      "  self._maybe_warn_non_full_backward_hook(args, result, grad_fn)\n"
     ]
    },
    {
     "name": "stdout",
     "output_type": "stream",
     "text": [
      "Saved Grad-CAM subplot for image 50 to /home/julian/indonezia/development/julian/ssl_classification_pipeline/gradcam_outputs/image_50_gradcam_subplot.jpg\n"
     ]
    },
    {
     "name": "stderr",
     "output_type": "stream",
     "text": [
      "/home/julian/anaconda3/envs/pytorch_env/lib/python3.11/site-packages/torch/nn/modules/module.py:1830: FutureWarning: Using a non-full backward hook when the forward contains multiple autograd Nodes is deprecated and will be removed in future versions. This hook will be missing some grad_input. Please use register_full_backward_hook to get the documented behavior.\n",
      "  self._maybe_warn_non_full_backward_hook(args, result, grad_fn)\n"
     ]
    },
    {
     "name": "stdout",
     "output_type": "stream",
     "text": [
      "Saved Grad-CAM subplot for image 51 to /home/julian/indonezia/development/julian/ssl_classification_pipeline/gradcam_outputs/image_51_gradcam_subplot.jpg\n"
     ]
    },
    {
     "name": "stderr",
     "output_type": "stream",
     "text": [
      "/home/julian/anaconda3/envs/pytorch_env/lib/python3.11/site-packages/torch/nn/modules/module.py:1830: FutureWarning: Using a non-full backward hook when the forward contains multiple autograd Nodes is deprecated and will be removed in future versions. This hook will be missing some grad_input. Please use register_full_backward_hook to get the documented behavior.\n",
      "  self._maybe_warn_non_full_backward_hook(args, result, grad_fn)\n"
     ]
    },
    {
     "name": "stdout",
     "output_type": "stream",
     "text": [
      "Saved Grad-CAM subplot for image 52 to /home/julian/indonezia/development/julian/ssl_classification_pipeline/gradcam_outputs/image_52_gradcam_subplot.jpg\n"
     ]
    },
    {
     "name": "stderr",
     "output_type": "stream",
     "text": [
      "/home/julian/anaconda3/envs/pytorch_env/lib/python3.11/site-packages/torch/nn/modules/module.py:1830: FutureWarning: Using a non-full backward hook when the forward contains multiple autograd Nodes is deprecated and will be removed in future versions. This hook will be missing some grad_input. Please use register_full_backward_hook to get the documented behavior.\n",
      "  self._maybe_warn_non_full_backward_hook(args, result, grad_fn)\n"
     ]
    },
    {
     "name": "stdout",
     "output_type": "stream",
     "text": [
      "Saved Grad-CAM subplot for image 53 to /home/julian/indonezia/development/julian/ssl_classification_pipeline/gradcam_outputs/image_53_gradcam_subplot.jpg\n"
     ]
    },
    {
     "name": "stderr",
     "output_type": "stream",
     "text": [
      "/home/julian/anaconda3/envs/pytorch_env/lib/python3.11/site-packages/torch/nn/modules/module.py:1830: FutureWarning: Using a non-full backward hook when the forward contains multiple autograd Nodes is deprecated and will be removed in future versions. This hook will be missing some grad_input. Please use register_full_backward_hook to get the documented behavior.\n",
      "  self._maybe_warn_non_full_backward_hook(args, result, grad_fn)\n"
     ]
    },
    {
     "name": "stdout",
     "output_type": "stream",
     "text": [
      "Saved Grad-CAM subplot for image 54 to /home/julian/indonezia/development/julian/ssl_classification_pipeline/gradcam_outputs/image_54_gradcam_subplot.jpg\n"
     ]
    },
    {
     "name": "stderr",
     "output_type": "stream",
     "text": [
      "/home/julian/anaconda3/envs/pytorch_env/lib/python3.11/site-packages/torch/nn/modules/module.py:1830: FutureWarning: Using a non-full backward hook when the forward contains multiple autograd Nodes is deprecated and will be removed in future versions. This hook will be missing some grad_input. Please use register_full_backward_hook to get the documented behavior.\n",
      "  self._maybe_warn_non_full_backward_hook(args, result, grad_fn)\n"
     ]
    },
    {
     "name": "stdout",
     "output_type": "stream",
     "text": [
      "Saved Grad-CAM subplot for image 55 to /home/julian/indonezia/development/julian/ssl_classification_pipeline/gradcam_outputs/image_55_gradcam_subplot.jpg\n"
     ]
    },
    {
     "name": "stderr",
     "output_type": "stream",
     "text": [
      "/home/julian/anaconda3/envs/pytorch_env/lib/python3.11/site-packages/torch/nn/modules/module.py:1830: FutureWarning: Using a non-full backward hook when the forward contains multiple autograd Nodes is deprecated and will be removed in future versions. This hook will be missing some grad_input. Please use register_full_backward_hook to get the documented behavior.\n",
      "  self._maybe_warn_non_full_backward_hook(args, result, grad_fn)\n"
     ]
    },
    {
     "name": "stdout",
     "output_type": "stream",
     "text": [
      "Saved Grad-CAM subplot for image 56 to /home/julian/indonezia/development/julian/ssl_classification_pipeline/gradcam_outputs/image_56_gradcam_subplot.jpg\n"
     ]
    },
    {
     "name": "stderr",
     "output_type": "stream",
     "text": [
      "/home/julian/anaconda3/envs/pytorch_env/lib/python3.11/site-packages/torch/nn/modules/module.py:1830: FutureWarning: Using a non-full backward hook when the forward contains multiple autograd Nodes is deprecated and will be removed in future versions. This hook will be missing some grad_input. Please use register_full_backward_hook to get the documented behavior.\n",
      "  self._maybe_warn_non_full_backward_hook(args, result, grad_fn)\n"
     ]
    },
    {
     "name": "stdout",
     "output_type": "stream",
     "text": [
      "Saved Grad-CAM subplot for image 57 to /home/julian/indonezia/development/julian/ssl_classification_pipeline/gradcam_outputs/image_57_gradcam_subplot.jpg\n"
     ]
    },
    {
     "name": "stderr",
     "output_type": "stream",
     "text": [
      "/home/julian/anaconda3/envs/pytorch_env/lib/python3.11/site-packages/torch/nn/modules/module.py:1830: FutureWarning: Using a non-full backward hook when the forward contains multiple autograd Nodes is deprecated and will be removed in future versions. This hook will be missing some grad_input. Please use register_full_backward_hook to get the documented behavior.\n",
      "  self._maybe_warn_non_full_backward_hook(args, result, grad_fn)\n"
     ]
    },
    {
     "name": "stdout",
     "output_type": "stream",
     "text": [
      "Saved Grad-CAM subplot for image 58 to /home/julian/indonezia/development/julian/ssl_classification_pipeline/gradcam_outputs/image_58_gradcam_subplot.jpg\n"
     ]
    },
    {
     "name": "stderr",
     "output_type": "stream",
     "text": [
      "/home/julian/anaconda3/envs/pytorch_env/lib/python3.11/site-packages/torch/nn/modules/module.py:1830: FutureWarning: Using a non-full backward hook when the forward contains multiple autograd Nodes is deprecated and will be removed in future versions. This hook will be missing some grad_input. Please use register_full_backward_hook to get the documented behavior.\n",
      "  self._maybe_warn_non_full_backward_hook(args, result, grad_fn)\n"
     ]
    },
    {
     "name": "stdout",
     "output_type": "stream",
     "text": [
      "Saved Grad-CAM subplot for image 59 to /home/julian/indonezia/development/julian/ssl_classification_pipeline/gradcam_outputs/image_59_gradcam_subplot.jpg\n"
     ]
    },
    {
     "name": "stderr",
     "output_type": "stream",
     "text": [
      "/home/julian/anaconda3/envs/pytorch_env/lib/python3.11/site-packages/torch/nn/modules/module.py:1830: FutureWarning: Using a non-full backward hook when the forward contains multiple autograd Nodes is deprecated and will be removed in future versions. This hook will be missing some grad_input. Please use register_full_backward_hook to get the documented behavior.\n",
      "  self._maybe_warn_non_full_backward_hook(args, result, grad_fn)\n"
     ]
    },
    {
     "name": "stdout",
     "output_type": "stream",
     "text": [
      "Saved Grad-CAM subplot for image 60 to /home/julian/indonezia/development/julian/ssl_classification_pipeline/gradcam_outputs/image_60_gradcam_subplot.jpg\n"
     ]
    },
    {
     "name": "stderr",
     "output_type": "stream",
     "text": [
      "/home/julian/anaconda3/envs/pytorch_env/lib/python3.11/site-packages/torch/nn/modules/module.py:1830: FutureWarning: Using a non-full backward hook when the forward contains multiple autograd Nodes is deprecated and will be removed in future versions. This hook will be missing some grad_input. Please use register_full_backward_hook to get the documented behavior.\n",
      "  self._maybe_warn_non_full_backward_hook(args, result, grad_fn)\n"
     ]
    },
    {
     "name": "stdout",
     "output_type": "stream",
     "text": [
      "Saved Grad-CAM subplot for image 61 to /home/julian/indonezia/development/julian/ssl_classification_pipeline/gradcam_outputs/image_61_gradcam_subplot.jpg\n"
     ]
    },
    {
     "name": "stderr",
     "output_type": "stream",
     "text": [
      "/home/julian/anaconda3/envs/pytorch_env/lib/python3.11/site-packages/torch/nn/modules/module.py:1830: FutureWarning: Using a non-full backward hook when the forward contains multiple autograd Nodes is deprecated and will be removed in future versions. This hook will be missing some grad_input. Please use register_full_backward_hook to get the documented behavior.\n",
      "  self._maybe_warn_non_full_backward_hook(args, result, grad_fn)\n"
     ]
    },
    {
     "name": "stdout",
     "output_type": "stream",
     "text": [
      "Saved Grad-CAM subplot for image 62 to /home/julian/indonezia/development/julian/ssl_classification_pipeline/gradcam_outputs/image_62_gradcam_subplot.jpg\n"
     ]
    },
    {
     "name": "stderr",
     "output_type": "stream",
     "text": [
      "/home/julian/anaconda3/envs/pytorch_env/lib/python3.11/site-packages/torch/nn/modules/module.py:1830: FutureWarning: Using a non-full backward hook when the forward contains multiple autograd Nodes is deprecated and will be removed in future versions. This hook will be missing some grad_input. Please use register_full_backward_hook to get the documented behavior.\n",
      "  self._maybe_warn_non_full_backward_hook(args, result, grad_fn)\n"
     ]
    },
    {
     "name": "stdout",
     "output_type": "stream",
     "text": [
      "Saved Grad-CAM subplot for image 63 to /home/julian/indonezia/development/julian/ssl_classification_pipeline/gradcam_outputs/image_63_gradcam_subplot.jpg\n"
     ]
    }
   ],
   "source": [
    "from io import BytesIO\n",
    "\n",
    "grad_cam = GradCAM(model)\n",
    "\n",
    "logged_images = []\n",
    "# Ensure we are not logging an overly large batch; \n",
    "# you could trim if needed, e.g. max 16 images\n",
    "# batch_size = min(images.size(0), 16)\n",
    "batch_size = test_images.size(0)\n",
    "\n",
    "# Assuming class_names is a list where class_names[i] corresponds to the label name for class i\n",
    "# Ensure that test_labels and preds are integer indices\n",
    "# If they are already indices, proceed. If not, you might need to map them accordingly.\n",
    "\n",
    "# Define output directory\n",
    "output_dir = \"/home/julian/indonezia/development/julian/ssl_classification_pipeline/gradcam_outputs\"\n",
    "os.makedirs(output_dir, exist_ok=True)\n",
    "\n",
    "for idx in range(batch_size):\n",
    "    input_image = test_images[idx].unsqueeze(0).to(device)\n",
    "\n",
    "    # Generate the heatmap\n",
    "    heatmap = grad_cam.generate_cam(input_image)\n",
    "\n",
    "    # Upsample to the original (H_img, W_img) size using bilinear interpolation\n",
    "    heatmap_resized = F.interpolate(\n",
    "        heatmap.unsqueeze(0).unsqueeze(0), \n",
    "        size=(test_images.shape[2], test_images.shape[3]),  # (H_img, W_img)\n",
    "        mode='bilinear', \n",
    "        align_corners=False\n",
    "    )\n",
    "\n",
    "    # Squeeze back to [H_img, W_img]\n",
    "    heatmap_resized = heatmap_resized.squeeze(0).squeeze(0)  # shape [H_img, W_img]\n",
    "\n",
    "    # Normalize the heatmap to [0, 1]\n",
    "    heatmap_resized = heatmap_resized - heatmap_resized.min()\n",
    "    if heatmap_resized.max() != 0:\n",
    "        heatmap_resized = heatmap_resized / heatmap_resized.max()\n",
    "\n",
    "    # Convert torch tensors to NumPy for OpenCV\n",
    "    # Original image: (C, H, W) -> (H, W, C)\n",
    "    original_img_np = test_images[idx].permute(1, 2, 0).cpu().numpy()\n",
    "    original_img_np = np.clip(original_img_np, 0, 1)  # Ensure values are in [0,1]\n",
    "\n",
    "    # Create the Grad-CAM overlay using OpenCV\n",
    "    overlay_bgr = create_gradcam_overlay(original_img_np, heatmap_resized.cpu().numpy(), alpha=0.6)\n",
    "\n",
    "    # Retrieve true and predicted labels\n",
    "    true_label_idx = test_labels[idx].item()  # Assuming test_labels are tensor of indices\n",
    "    pred_label_idx = preds[idx].item()        # Assuming preds are tensor of indices\n",
    "\n",
    "    true_label = class_names[true_label_idx]\n",
    "    pred_label = class_names[pred_label_idx]\n",
    "\n",
    "    # Define the output path for the subplot\n",
    "    output_path_subplot = os.path.join(output_dir, f\"image_{idx}_gradcam_subplot.jpg\")\n",
    "\n",
    "    # Save the subplot with annotations\n",
    "    save_gradcam_subplot(original_img_np, overlay_bgr, true_label, pred_label, output_path_subplot)\n",
    "\n",
    "    print(f\"Saved Grad-CAM subplot for image {idx} to {output_path_subplot}\")\n"
   ]
  },
  {
   "cell_type": "code",
   "execution_count": null,
   "metadata": {},
   "outputs": [],
   "source": []
  }
 ],
 "metadata": {
  "kernelspec": {
   "display_name": "pytorch_env",
   "language": "python",
   "name": "python3"
  },
  "language_info": {
   "codemirror_mode": {
    "name": "ipython",
    "version": 3
   },
   "file_extension": ".py",
   "mimetype": "text/x-python",
   "name": "python",
   "nbconvert_exporter": "python",
   "pygments_lexer": "ipython3",
   "version": "3.11.7"
  }
 },
 "nbformat": 4,
 "nbformat_minor": 2
}
